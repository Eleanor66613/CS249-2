{
 "metadata": {
  "name": "",
  "signature": "sha256:2a251d9ba04ba6ba589867d1cfd508dd125b0f6290b2ebf5deef0eb080c4f239"
 },
 "nbformat": 3,
 "nbformat_minor": 0,
 "worksheets": [
  {
   "cells": [
    {
     "cell_type": "heading",
     "level": 1,
     "metadata": {},
     "source": [
      "Mini-Homework 4:  The General Linear Model"
     ]
    },
    {
     "cell_type": "markdown",
     "metadata": {},
     "source": [
      "This assignment covers Linear Regression and Linear Classification, following the chapters with these names in the [ISL] and [ESL] texts."
     ]
    },
    {
     "cell_type": "heading",
     "level": 1,
     "metadata": {},
     "source": [
      "Problem 0.  Do the following exercises in the texts:"
     ]
    },
    {
     "cell_type": "markdown",
     "metadata": {},
     "source": [
      "[ISL] Chapter 3: Exercises 4 (bias), 8 (linear regression)\n",
      "\n",
      "[ESL] Chapter 3: Exercise 3.5 (Ridge regression)\n",
      "\n",
      "[ISL] Chapter 4: Exercises 3, 4 (curse of dimensionality)"
     ]
    },
    {
     "cell_type": "heading",
     "level": 2,
     "metadata": {},
     "source": [
      "start up R within IPython"
     ]
    },
    {
     "cell_type": "code",
     "collapsed": false,
     "input": [
      "%load_ext rmagic\n",
      "import rpy2 as Rpy"
     ],
     "language": "python",
     "metadata": {},
     "outputs": []
    },
    {
     "cell_type": "heading",
     "level": 2,
     "metadata": {},
     "source": [
      "load the MASS and e1071 libraries (installing them if necessary)"
     ]
    },
    {
     "cell_type": "code",
     "collapsed": false,
     "input": [
      "%%R\n",
      "\n",
      "not.installed = function(package_name)  !is.element(package_name, installed.packages()[,1])\n",
      "\n",
      "if (not.installed(\"MASS\")) install.packages(\"MASS\")\n",
      "if (not.installed(\"e1071\")) install.packages(\"e1071\")\n",
      "\n",
      "library(MASS)  # provides LDA and QDA modeling\n",
      "library(e1071) \n"
     ],
     "language": "python",
     "metadata": {},
     "outputs": []
    },
    {
     "cell_type": "heading",
     "level": 2,
     "metadata": {},
     "source": [
      "load the libraries for the course texts (installing them if necessary)"
     ]
    },
    {
     "cell_type": "code",
     "collapsed": false,
     "input": [
      "%%R\n",
      "\n",
      "not.installed = function(package_name)  !is.element(package_name, installed.packages()[,1])\n",
      "\n",
      "if (not.installed(\"ISLR\")) install.packages(\"ISLR\")\n",
      "if (not.installed(\"ElemStatLearn\")) install.packages(\"ElemStatLearn\")\n",
      "    \n",
      "library(ISLR)\n",
      "library(ElemStatLearn)\n",
      "\n"
     ],
     "language": "python",
     "metadata": {},
     "outputs": []
    },
    {
     "cell_type": "heading",
     "level": 1,
     "metadata": {},
     "source": [
      "Problem 1.  Do problem 9 in [ISL] Chapter 3, for the Auto dataset."
     ]
    },
    {
     "cell_type": "code",
     "collapsed": false,
     "input": [
      "%%R\n",
      "\n",
      "data(Auto)\n",
      "print(data)\n",
      "# .......\n"
     ],
     "language": "python",
     "metadata": {},
     "outputs": []
    },
    {
     "cell_type": "heading",
     "level": 1,
     "metadata": {},
     "source": [
      "Problem 2.  Do Ridge Regression for the Auto dataset, using the simple.ridge function (in the ElemStatLearn library)"
     ]
    },
    {
     "cell_type": "code",
     "collapsed": false,
     "input": [
      "%%R\n",
      "\n",
      "#       simple.ridge(x, y, lambda = 1, df, ...)\n",
      "#\n",
      "# Arguments:\n",
      "#       x: predictor matrix, NA's not allowed. Should not include a column of 1's.\n",
      "#       y: response matrix, NA's not allowed\n",
      "#  lambda: vector of ridge coefficients\n",
      "#      df: vector of target degrees of freedom. lambda is calculated from these.\n"
     ],
     "language": "python",
     "metadata": {},
     "outputs": []
    },
    {
     "cell_type": "heading",
     "level": 1,
     "metadata": {},
     "source": [
      "The Supervised Learning paradigm in R"
     ]
    },
    {
     "cell_type": "heading",
     "level": 2,
     "metadata": {},
     "source": [
      "Example:  Supervised learning on the Iris dataset"
     ]
    },
    {
     "cell_type": "code",
     "collapsed": false,
     "input": [
      "%%R\n",
      "\n",
      "data(iris)\n",
      "print(str(iris))\n",
      "\n",
      "n <- dim(iris)[1]\n",
      "p <- dim(iris)[2]\n",
      "\n",
      "print(table(iris$Species))\n",
      "\n",
      "#------------------------------------------------------------------------\n",
      "#   generate a training set, and create a model on the training set\n",
      "#------------------------------------------------------------------------\n",
      "\n",
      "iris_ids <- (1:n)\n",
      "\n",
      "training_set <- sample(iris_ids, 75)     # Generate a random sample of size 75\n",
      "print(training_set)\n",
      "\n",
      "testing_set  <- iris_ids[-training_set]  # The set complement of training_set\n",
      "print(testing_set)\n",
      "\n",
      "print(table(iris$Species[training_set]))    # Tabulate species for the training set\n",
      "print(table(iris$Species[testing_set]))     # Tabulate species for the testing set\n",
      "\n",
      "#  plot the data as a parallel coordinates plot  (parcoord is in the MASS package)\n",
      "\n",
      "parcoord(iris[,1:4],  col=c(\"red\", \"green3\", \"blue\")[unclass(iris$Species)])\n"
     ],
     "language": "python",
     "metadata": {},
     "outputs": []
    },
    {
     "cell_type": "heading",
     "level": 2,
     "metadata": {},
     "source": [
      "fit an LDA model to the training set data"
     ]
    },
    {
     "cell_type": "code",
     "collapsed": false,
     "input": [
      "%%R\n",
      "\n",
      "#  lda is in the MASS package\n",
      "\n",
      "ldaModel <- lda( Species ~ Petal.Length + Petal.Width + Sepal.Length + Sepal.Width,\n",
      "                 data = iris, subset = training_set )\n",
      "\n",
      "# Equivalent abbreviation:\n",
      "\n",
      "ldaModel <- lda( Species ~ .,  data = iris, subset = training_set )\n",
      "\n",
      "\n",
      "print(ldaModel)\n"
     ],
     "language": "python",
     "metadata": {},
     "outputs": []
    },
    {
     "cell_type": "heading",
     "level": 2,
     "metadata": {},
     "source": [
      "Evaluate how well the LDA model predicts classes for the remaining data (i.e., the testing_set)"
     ]
    },
    {
     "cell_type": "code",
     "collapsed": false,
     "input": [
      "%%R\n",
      "\n",
      "# Make class predictions on the test dataset using our LDA model\n",
      "#  and then check the predicted class results against the true class values.\n",
      "\n",
      "predictions <- predict( ldaModel, iris[ testing_set ,] )\n",
      "\n",
      "print(predictions$class)\n",
      "\n",
      "incorrect.prediction  <-  (predictions$class != iris$Species[testing_set])\n",
      "\n",
      "print(testing_set[ incorrect.prediction ])          # ids  for which prediction was incorrect\n",
      "\n",
      "print(iris[ testing_set[incorrect.prediction], ])   # data for which prediction was incorrect\n",
      "\n",
      "confusion_matrix <- table( iris$Species[testing_set], predictions$class )\n",
      "print(confusion_matrix)\n",
      "\n",
      "m <- length(testing_set)\n",
      "print(m)\n",
      "\n",
      "accuracy <- (m - sum(incorrect.prediction))/m\n",
      "print(accuracy)\n"
     ],
     "language": "python",
     "metadata": {},
     "outputs": []
    },
    {
     "cell_type": "heading",
     "level": 2,
     "metadata": {},
     "source": [
      "Never mix the training set with the testing set !!"
     ]
    },
    {
     "cell_type": "code",
     "collapsed": false,
     "input": [
      "%%R\n",
      "\n",
      "#  out of curiousity, let us see how well the model works on the training set.\n",
      "#  (It is a terrible idea to do this in general)\n",
      "\n",
      "predictions <- predict( ldaModel, iris[ training_set, ] )\n",
      "print(predictions$class)\n",
      "\n",
      "incorrect.prediction  <-  (predictions$class != iris$Species[training_set] )\n",
      "\n",
      "print(iris_ids[ incorrect.prediction ]) # ids  for which prediction was incorrect\n",
      "print(iris[ incorrect.prediction , ])   # data for which prediction was incorrect\n",
      "\n",
      "accuracy <- (n - sum(incorrect.prediction))/n\n",
      "print(accuracy)\n",
      "\n",
      "confusion_matrix <- table( iris$Species[training_set], predictions$class )\n",
      "print(confusion_matrix)\n"
     ],
     "language": "python",
     "metadata": {},
     "outputs": []
    },
    {
     "cell_type": "heading",
     "level": 2,
     "metadata": {},
     "source": [
      "Training another kind of model:  the SVM"
     ]
    },
    {
     "cell_type": "code",
     "collapsed": false,
     "input": [
      "%%R\n",
      "\n",
      "# Now train an SVM model, and evaluate its accuracy\n",
      "\n",
      "library(e1071)\n",
      "\n",
      "svmModel <- svm( Species ~ ., data=iris, subset = training_set )\n",
      "print(summary(svmModel))\n",
      "\n",
      "svm.predictions <- predict( svmModel, iris[ testing_set ,] )\n",
      "\n",
      "svm.incorrect.prediction  <-  (svm.predictions != iris$Species[testing_set])\n",
      "print(testing_set[svm.incorrect.prediction])\n",
      "\n",
      "svm.confusion.matrix <- table( iris$Species[testing_set], svm.predictions )\n",
      "print(svm.confusion.matrix)\n",
      "\n",
      "svm.accuracy <- (m - length(training_set[svm.incorrect.prediction])) / m\n",
      "print(svm.accuracy)\n"
     ],
     "language": "python",
     "metadata": {},
     "outputs": []
    },
    {
     "cell_type": "code",
     "collapsed": false,
     "input": [],
     "language": "python",
     "metadata": {},
     "outputs": []
    },
    {
     "cell_type": "heading",
     "level": 1,
     "metadata": {},
     "source": [
      "Problem 3.  Do problem 10 in [ISL] Chapter 4, for the Weekly dataset."
     ]
    },
    {
     "cell_type": "code",
     "collapsed": false,
     "input": [
      "%%R\n",
      "\n",
      "data(Weekly)\n",
      "\n",
      "print(summary(Weekly))\n",
      "\n",
      "# .......\n"
     ],
     "language": "python",
     "metadata": {},
     "outputs": []
    },
    {
     "cell_type": "heading",
     "level": 1,
     "metadata": {},
     "source": [
      "Problem 4.  Develop LDA, QDA, SVM, and logistic regression models for the SPAM dataset (in the ElemStatLearn library)"
     ]
    },
    {
     "cell_type": "code",
     "collapsed": false,
     "input": [
      "%%R\n",
      "\n",
      "data(spam)\n",
      "\n",
      "print(summary(spam))\n",
      "\n",
      "# ........ (note section 4.4.5 of [ESL] compares LDA and logistic regression)\n"
     ],
     "language": "python",
     "metadata": {},
     "outputs": []
    },
    {
     "cell_type": "heading",
     "level": 1,
     "metadata": {},
     "source": [
      "Optional Problem for Wizards:  Develop LDA, QDA, SVM, and logistic regression for the Vowels dataset (in the ElemStatLearn library)"
     ]
    },
    {
     "cell_type": "code",
     "collapsed": false,
     "input": [
      "%%R\n",
      "\n",
      "data(vowel.train)\n",
      "data(vowel.test)\n",
      "\n",
      "print(summary(vowel.train))\n",
      "\n",
      "# ......."
     ],
     "language": "python",
     "metadata": {},
     "outputs": []
    },
    {
     "cell_type": "code",
     "collapsed": false,
     "input": [
      "%%R\n"
     ],
     "language": "python",
     "metadata": {},
     "outputs": []
    }
   ],
   "metadata": {}
  }
 ]
}